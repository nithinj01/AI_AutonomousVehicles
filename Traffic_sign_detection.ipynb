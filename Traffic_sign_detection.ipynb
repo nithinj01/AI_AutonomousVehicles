{
  "nbformat": 4,
  "nbformat_minor": 0,
  "metadata": {
    "colab": {
      "provenance": []
    },
    "kernelspec": {
      "name": "python3",
      "display_name": "Python 3"
    },
    "language_info": {
      "name": "python"
    },
    "accelerator": "GPU"
  },
  "cells": [
    {
      "cell_type": "code",
      "metadata": {
        "colab": {
          "base_uri": "https://localhost:8080/"
        },
        "id": "VSQLv4DZ3DBB",
        "outputId": "89d0eedc-bc60-41fb-a787-6d29ce76992e"
      },
      "source": [
        "from google.colab import drive\n",
        "drive.mount('/content/drive')"
      ],
      "execution_count": null,
      "outputs": [
        {
          "output_type": "stream",
          "name": "stdout",
          "text": [
            "Mounted at /content/drive\n"
          ]
        }
      ]
    },
    {
      "cell_type": "code",
      "metadata": {
        "colab": {
          "base_uri": "https://localhost:8080/"
        },
        "id": "WcYTcr6H3MU3",
        "outputId": "23a00126-0382-460e-88d4-dd043ae30974"
      },
      "source": [
        "%cd /content/drive/My Drive/Colab Notebooks"
      ],
      "execution_count": null,
      "outputs": [
        {
          "output_type": "stream",
          "name": "stdout",
          "text": [
            "/content/drive/My Drive/Colab Notebooks\n"
          ]
        }
      ]
    },
    {
      "cell_type": "markdown",
      "metadata": {
        "id": "eE0XHdde4-h6"
      },
      "source": [
        "**Loading the data**\n",
        "\n"
      ]
    },
    {
      "cell_type": "code",
      "metadata": {
        "id": "GI9M-q895CtB"
      },
      "source": [
        "# Importing libraries and data\n",
        "import warnings\n",
        "warnings.filterwarnings(\"ignore\")\n",
        "\n",
        "import pickle\n",
        "# importing pandas for data manipulation using dataframes\n",
        "import pandas as pd\n",
        "# Importing numpy for data statistical analysis\n",
        "import numpy as np\n",
        "#Importing matplotlib for data visualization\n",
        "import matplotlib.pyplot as plt\n",
        "import random"
      ],
      "execution_count": null,
      "outputs": []
    },
    {
      "cell_type": "code",
      "metadata": {
        "id": "xhVx65Yv5j-8"
      },
      "source": [
        "# we will import three pickle files- the test, training and validation datasets\n",
        "with open(\"traffic-signs-data/train.p\", mode='rb') as training_data:\n",
        "    train = pickle.load(training_data)\n",
        "with open(\"traffic-signs-data/valid.p\", mode='rb') as validation_data:\n",
        "    valid = pickle.load(validation_data)\n",
        "with open(\"traffic-signs-data/test.p\", mode='rb') as testing_data:\n",
        "    test = pickle.load(testing_data)"
      ],
      "execution_count": null,
      "outputs": []
    },
    {
      "cell_type": "code",
      "metadata": {
        "id": "WRDd-7Yr6LEH"
      },
      "source": [
        "X_train, y_train = train['features'], train['labels']\n",
        "X_validation, y_validation = valid['features'], valid['labels']\n",
        "X_test, y_test = test['features'], test['labels']"
      ],
      "execution_count": null,
      "outputs": []
    },
    {
      "cell_type": "code",
      "metadata": {
        "colab": {
          "base_uri": "https://localhost:8080/"
        },
        "id": "EVWcyHSJ6fd2",
        "outputId": "f5ee536c-cea0-4a0e-b2fc-1306098d29ed"
      },
      "source": [
        "# Let's check the shape of the data\n",
        "X_train.shape"
      ],
      "execution_count": null,
      "outputs": [
        {
          "output_type": "execute_result",
          "data": {
            "text/plain": [
              "(34799, 32, 32, 3)"
            ]
          },
          "metadata": {
            "tags": []
          },
          "execution_count": 6
        }
      ]
    },
    {
      "cell_type": "code",
      "metadata": {
        "colab": {
          "base_uri": "https://localhost:8080/"
        },
        "id": "NxaS8uwW6mhD",
        "outputId": "94837aff-030a-4cb9-952a-56452564ec6b"
      },
      "source": [
        "y_train.shape"
      ],
      "execution_count": null,
      "outputs": [
        {
          "output_type": "execute_result",
          "data": {
            "text/plain": [
              "(34799,)"
            ]
          },
          "metadata": {
            "tags": []
          },
          "execution_count": 7
        }
      ]
    },
    {
      "cell_type": "markdown",
      "metadata": {
        "id": "YmaelV7O7zdy"
      },
      "source": [
        "**Image exploration**\n",
        "\n",
        "we will explore the images class and see what the German traffic sign dataset looks like"
      ]
    },
    {
      "cell_type": "code",
      "metadata": {
        "colab": {
          "base_uri": "https://localhost:8080/",
          "height": 283
        },
        "id": "QPJ51HWH7-6I",
        "outputId": "b53e60ed-28e0-4f7e-e640-d59ab4802b5e"
      },
      "source": [
        "i = 1001\n",
        "plt.imshow(X_train[i]) # Show images are not shuffled\n",
        "y_train[i]"
      ],
      "execution_count": null,
      "outputs": [
        {
          "output_type": "execute_result",
          "data": {
            "text/plain": [
              "36"
            ]
          },
          "metadata": {
            "tags": []
          },
          "execution_count": 8
        },
        {
          "output_type": "display_data",
          "data": {
            "image/png": "[encoded data removed]",
            "text/plain": [
              "<Figure size 432x288 with 1 Axes>"
            ]
          },
          "metadata": {
            "tags": [],
            "needs_background": "light"
          }
        }
      ]
    },
    {
      "cell_type": "markdown",
      "metadata": {
        "id": "_nNNhW-F8keB"
      },
      "source": [
        "**Data Preperation**\n",
        "\n",
        "\n",
        "Data preparation is an important part of any data science project. Data preparation helps us to achieve better accuracy"
      ]
    },
    {
      "cell_type": "code",
      "metadata": {
        "id": "eJzebwbO8x4y"
      },
      "source": [
        "# We will start by shuffling the dataset\n",
        "from sklearn.utils import shuffle\n",
        "X_train, y_train = shuffle(X_train, y_train)"
      ],
      "execution_count": null,
      "outputs": []
    },
    {
      "cell_type": "code",
      "metadata": {
        "id": "1Qqb4QxO8-TC"
      },
      "source": [
        "# We will transform the data into grayscale and normalize it\n",
        "\n",
        "X_train_gray = np.sum(X_train/3, axis=3, keepdims=True)\n",
        "X_test_gray = np.sum(X_test/3, axis=3, keepdims=True)\n",
        "X_validation_gray = np.sum(X_validation/3, axis=3, keepdims=True)\n",
        "\n",
        "X_train_gray_norm = (X_train_gray - 128)/128\n",
        "X_test_gray_norm = (X_test_gray - 128)/128\n",
        "X_validation_gray_norm = (X_validation_gray - 128)/128"
      ],
      "execution_count": null,
      "outputs": []
    },
    {
      "cell_type": "code",
      "metadata": {
        "colab": {
          "base_uri": "https://localhost:8080/",
          "height": 532
        },
        "id": "1X9C-VY29hF_",
        "outputId": "32a8955d-2820-49d8-cd7f-7521daa2853d"
      },
      "source": [
        "# Now we will check the images following the grayscale conversion:\n",
        "i=500\n",
        "plt.imshow(X_train_gray[i].squeeze(), cmap='gray')\n",
        "plt.figure()\n",
        "plt.imshow(X_train[i])"
      ],
      "execution_count": null,
      "outputs": [
        {
          "output_type": "execute_result",
          "data": {
            "text/plain": [
              "<matplotlib.image.AxesImage at 0x7f6f8deb3c90>"
            ]
          },
          "metadata": {
            "tags": []
          },
          "execution_count": 11
        },
        {
          "output_type": "display_data",
          "data": {
            "image/png": "[encoded data removed]",
            "text/plain": [
              "<Figure size 432x288 with 1 Axes>"
            ]
          },
          "metadata": {
            "tags": [],
            "needs_background": "light"
          }
        },
        {
          "output_type": "display_data",
          "data": {
            "image/png": "[encoded data removed]",
            "text/plain": [
              "<Figure size 432x288 with 1 Axes>"
            ]
          },
          "metadata": {
            "tags": [],
            "needs_background": "light"
          }
        }
      ]
    },
    {
      "cell_type": "markdown",
      "metadata": {
        "id": "QPEZwvzABryA"
      },
      "source": [
        "**Model training**\n",
        "\n",
        "In this video we will train our model with the convolution neural network architecture."
      ]
    },
    {
      "cell_type": "code",
      "metadata": {
        "id": "8et7THDyB1y5"
      },
      "source": [
        "# We will start by importing the keras and sklearn libraries.\n",
        "# We are importing Sequential, Conv2D, MaxPooling2D, Dense, Flatten, Dropouts, Adam, Tensorboard, and check output from keras.\n",
        "import tensorflow as tf\n",
        "from tensorflow import keras\n",
        "from tensorflow.keras import layers\n",
        "from subprocess import check_output\n",
        "from sklearn.model_selection import train_test_split"
      ],
      "execution_count": null,
      "outputs": []
    },
    {
      "cell_type": "code",
      "metadata": {
        "id": "jzIGjj1VDhe1"
      },
      "source": [
        "image_shape = X_train_gray[i].shape"
      ],
      "execution_count": null,
      "outputs": []
    },
    {
      "cell_type": "code",
      "metadata": {
        "colab": {
          "base_uri": "https://localhost:8080/"
        },
        "id": "XVqeODOkDkjS",
        "outputId": "ef6c964c-a9a8-48e0-b1a6-39ca290f6071"
      },
      "source": [
        "image_shape"
      ],
      "execution_count": null,
      "outputs": [
        {
          "output_type": "execute_result",
          "data": {
            "text/plain": [
              "(32, 32, 1)"
            ]
          },
          "metadata": {
            "tags": []
          },
          "execution_count": 14
        }
      ]
    },
    {
      "cell_type": "code",
      "metadata": {
        "id": "bXZD1XEiCV_M"
      },
      "source": [
        "# We will build the model\n",
        "cnn_model = tf.keras.Sequential()\n",
        "cnn_model.add(tf.keras.layers.Conv2D(32,3, 3, input_shape = image_shape, activation='relu'))\n",
        "cnn_model.add(tf.keras.layers.Conv2D(64, (3,3), activation='relu'))\n",
        "cnn_model.add(tf.keras.layers.MaxPooling2D(pool_size = (2, 2)))\n",
        "cnn_model.add(tf.keras.layers.Dropout(0.25))\n",
        "cnn_model.add(tf.keras.layers.Flatten())\n",
        "cnn_model.add(tf.keras.layers.Dense(128, activation='relu'))\n",
        "cnn_model.add(tf.keras.layers.Dropout(0.5))\n",
        "cnn_model.add(tf.keras.layers.Dense(43, activation = 'sigmoid'))"
      ],
      "execution_count": null,
      "outputs": []
    },
    {
      "cell_type": "markdown",
      "metadata": {
        "id": "jG_hXlm5Dozm"
      },
      "source": [
        "We will compile the model. We will use sparse_categorical_crossentropy because we have 43 different clases. We are using Adam as an optimizer as it is appropriate for the sparse gradient problems. Its parameters require little tunning as they are computationally efficient and invariant to any diagnal rescaling of gradients"
      ]
    },
    {
      "cell_type": "code",
      "metadata": {
        "id": "RZuhXsX1EB8M"
      },
      "source": [
        "cnn_model.compile(loss='sparse_categorical_crossentropy', optimizer=keras.optimizers.Adam(0.001, beta_1=0.9, beta_2=0.999,epsilon=1e-07, amsgrad=False), metrics=['accuracy'])"
      ],
      "execution_count": null,
      "outputs": []
    },
    {
      "cell_type": "code",
      "metadata": {
        "colab": {
          "base_uri": "https://localhost:8080/"
        },
        "id": "LYzY5w5aEiUy",
        "outputId": "1ce8dec2-d19c-47ea-a34c-b29a0700078f"
      },
      "source": [
        "# We will train the model using cnn_model.fit function here batch size is 100 and epoch is 60\n",
        "history = cnn_model.fit(X_train_gray_norm,\n",
        "                       y_train,\n",
        "                        batch_size=32,\n",
        "                        epochs = 60,\n",
        "                        verbose=1,\n",
        "                        validation_data = (X_validation_gray_norm,y_validation))"
      ],
      "execution_count": null,
      "outputs": [
        {
          "output_type": "stream",
          "text": [
            "Epoch 1/60\n",
            "1088/1088 [==============================] - 35s 3ms/step - loss: 1.8982 - accuracy: 0.4744 - val_loss: 0.8205 - val_accuracy: 0.7980\n",
            "Epoch 2/60\n",
            "1088/1088 [==============================] - 3s 3ms/step - loss: 0.7174 - accuracy: 0.7810 - val_loss: 0.4552 - val_accuracy: 0.8660\n",
            "Epoch 3/60\n",
            "1088/1088 [==============================] - 3s 3ms/step - loss: 0.4859 - accuracy: 0.8521 - val_loss: 0.3573 - val_accuracy: 0.9054\n",
            "Epoch 4/60\n",
            "1088/1088 [==============================] - 3s 3ms/step - loss: 0.3854 - accuracy: 0.8809 - val_loss: 0.3670 - val_accuracy: 0.8943\n",
            "Epoch 5/60\n",
            "1088/1088 [==============================] - 3s 3ms/step - loss: 0.3211 - accuracy: 0.9024 - val_loss: 0.3265 - val_accuracy: 0.9120\n",
            "Epoch 6/60\n",
            "1088/1088 [==============================] - 3s 3ms/step - loss: 0.2826 - accuracy: 0.9126 - val_loss: 0.2794 - val_accuracy: 0.9179\n",
            "Epoch 7/60\n",
            "1088/1088 [==============================] - 3s 3ms/step - loss: 0.2531 - accuracy: 0.9211 - val_loss: 0.2716 - val_accuracy: 0.9320\n",
            "Epoch 8/60\n",
            "1088/1088 [==============================] - 3s 3ms/step - loss: 0.2225 - accuracy: 0.9301 - val_loss: 0.2706 - val_accuracy: 0.9268\n",
            "Epoch 9/60\n",
            "1088/1088 [==============================] - 3s 3ms/step - loss: 0.2064 - accuracy: 0.9342 - val_loss: 0.2351 - val_accuracy: 0.9293\n",
            "Epoch 10/60\n",
            "1088/1088 [==============================] - 3s 3ms/step - loss: 0.1932 - accuracy: 0.9393 - val_loss: 0.2017 - val_accuracy: 0.9444\n",
            "Epoch 11/60\n",
            "1088/1088 [==============================] - 3s 3ms/step - loss: 0.1807 - accuracy: 0.9434 - val_loss: 0.2331 - val_accuracy: 0.9317\n",
            "Epoch 12/60\n",
            "1088/1088 [==============================] - 3s 3ms/step - loss: 0.1600 - accuracy: 0.9488 - val_loss: 0.2079 - val_accuracy: 0.9354\n",
            "Epoch 13/60\n",
            "1088/1088 [==============================] - 3s 3ms/step - loss: 0.1581 - accuracy: 0.9506 - val_loss: 0.2271 - val_accuracy: 0.9336\n",
            "Epoch 14/60\n",
            "1088/1088 [==============================] - 3s 3ms/step - loss: 0.1534 - accuracy: 0.9502 - val_loss: 0.2188 - val_accuracy: 0.9397\n",
            "Epoch 15/60\n",
            "1088/1088 [==============================] - 3s 3ms/step - loss: 0.1487 - accuracy: 0.9522 - val_loss: 0.1953 - val_accuracy: 0.9465\n",
            "Epoch 16/60\n",
            "1088/1088 [==============================] - 3s 3ms/step - loss: 0.1382 - accuracy: 0.9554 - val_loss: 0.1981 - val_accuracy: 0.9449\n",
            "Epoch 17/60\n",
            "1088/1088 [==============================] - 3s 3ms/step - loss: 0.1276 - accuracy: 0.9595 - val_loss: 0.1886 - val_accuracy: 0.9456\n",
            "Epoch 18/60\n",
            "1088/1088 [==============================] - 3s 3ms/step - loss: 0.1267 - accuracy: 0.9587 - val_loss: 0.2058 - val_accuracy: 0.9451\n",
            "Epoch 19/60\n",
            "1088/1088 [==============================] - 3s 3ms/step - loss: 0.1269 - accuracy: 0.9596 - val_loss: 0.1760 - val_accuracy: 0.9515\n",
            "Epoch 20/60\n",
            "1088/1088 [==============================] - 3s 3ms/step - loss: 0.1180 - accuracy: 0.9625 - val_loss: 0.1896 - val_accuracy: 0.9503\n",
            "Epoch 21/60\n",
            "1088/1088 [==============================] - 3s 3ms/step - loss: 0.1158 - accuracy: 0.9629 - val_loss: 0.2233 - val_accuracy: 0.9422\n",
            "Epoch 22/60\n",
            "1088/1088 [==============================] - 3s 3ms/step - loss: 0.1105 - accuracy: 0.9647 - val_loss: 0.1657 - val_accuracy: 0.9528\n",
            "Epoch 23/60\n",
            "1088/1088 [==============================] - 3s 3ms/step - loss: 0.1109 - accuracy: 0.9638 - val_loss: 0.1772 - val_accuracy: 0.9519\n",
            "Epoch 24/60\n",
            "1088/1088 [==============================] - 3s 3ms/step - loss: 0.1114 - accuracy: 0.9636 - val_loss: 0.2110 - val_accuracy: 0.9454\n",
            "Epoch 25/60\n",
            "1088/1088 [==============================] - 3s 3ms/step - loss: 0.1057 - accuracy: 0.9653 - val_loss: 0.2183 - val_accuracy: 0.9492\n",
            "Epoch 26/60\n",
            "1088/1088 [==============================] - 3s 3ms/step - loss: 0.1043 - accuracy: 0.9667 - val_loss: 0.2130 - val_accuracy: 0.9449\n",
            "Epoch 27/60\n",
            "1088/1088 [==============================] - 3s 3ms/step - loss: 0.1010 - accuracy: 0.9674 - val_loss: 0.1865 - val_accuracy: 0.9515\n",
            "Epoch 28/60\n",
            "1088/1088 [==============================] - 3s 3ms/step - loss: 0.0908 - accuracy: 0.9707 - val_loss: 0.2099 - val_accuracy: 0.9512\n",
            "Epoch 29/60\n",
            "1088/1088 [==============================] - 3s 3ms/step - loss: 0.0973 - accuracy: 0.9693 - val_loss: 0.2082 - val_accuracy: 0.9458\n",
            "Epoch 30/60\n",
            "1088/1088 [==============================] - 3s 3ms/step - loss: 0.0935 - accuracy: 0.9700 - val_loss: 0.1957 - val_accuracy: 0.9510\n",
            "Epoch 31/60\n",
            "1088/1088 [==============================] - 3s 3ms/step - loss: 0.0883 - accuracy: 0.9711 - val_loss: 0.1794 - val_accuracy: 0.9558\n",
            "Epoch 32/60\n",
            "1088/1088 [==============================] - 3s 3ms/step - loss: 0.0843 - accuracy: 0.9735 - val_loss: 0.1998 - val_accuracy: 0.9540\n",
            "Epoch 33/60\n",
            "1088/1088 [==============================] - 3s 3ms/step - loss: 0.0836 - accuracy: 0.9731 - val_loss: 0.2393 - val_accuracy: 0.9429\n",
            "Epoch 34/60\n",
            "1088/1088 [==============================] - 3s 3ms/step - loss: 0.0868 - accuracy: 0.9720 - val_loss: 0.1953 - val_accuracy: 0.9497\n",
            "Epoch 35/60\n",
            "1088/1088 [==============================] - 3s 3ms/step - loss: 0.0837 - accuracy: 0.9737 - val_loss: 0.2258 - val_accuracy: 0.9420\n",
            "Epoch 36/60\n",
            "1088/1088 [==============================] - 3s 3ms/step - loss: 0.0847 - accuracy: 0.9738 - val_loss: 0.1988 - val_accuracy: 0.9540\n",
            "Epoch 37/60\n",
            "1088/1088 [==============================] - 3s 3ms/step - loss: 0.0844 - accuracy: 0.9738 - val_loss: 0.1945 - val_accuracy: 0.9531\n",
            "Epoch 38/60\n",
            "1088/1088 [==============================] - 3s 3ms/step - loss: 0.0798 - accuracy: 0.9751 - val_loss: 0.2509 - val_accuracy: 0.9503\n",
            "Epoch 39/60\n",
            "1088/1088 [==============================] - 3s 3ms/step - loss: 0.0787 - accuracy: 0.9756 - val_loss: 0.2056 - val_accuracy: 0.9542\n",
            "Epoch 40/60\n",
            "1088/1088 [==============================] - 3s 3ms/step - loss: 0.0793 - accuracy: 0.9756 - val_loss: 0.2244 - val_accuracy: 0.9485\n",
            "Epoch 41/60\n",
            "1088/1088 [==============================] - 3s 3ms/step - loss: 0.0752 - accuracy: 0.9758 - val_loss: 0.1917 - val_accuracy: 0.9544\n",
            "Epoch 42/60\n",
            "1088/1088 [==============================] - 3s 3ms/step - loss: 0.0772 - accuracy: 0.9750 - val_loss: 0.2391 - val_accuracy: 0.9492\n",
            "Epoch 43/60\n",
            "1088/1088 [==============================] - 3s 3ms/step - loss: 0.0783 - accuracy: 0.9760 - val_loss: 0.2088 - val_accuracy: 0.9535\n",
            "Epoch 44/60\n",
            "1088/1088 [==============================] - 3s 3ms/step - loss: 0.0789 - accuracy: 0.9754 - val_loss: 0.2252 - val_accuracy: 0.9535\n",
            "Epoch 45/60\n",
            "1088/1088 [==============================] - 3s 3ms/step - loss: 0.0803 - accuracy: 0.9742 - val_loss: 0.2198 - val_accuracy: 0.9556\n",
            "Epoch 46/60\n",
            "1088/1088 [==============================] - 3s 3ms/step - loss: 0.0747 - accuracy: 0.9770 - val_loss: 0.2296 - val_accuracy: 0.9553\n",
            "Epoch 47/60\n",
            "1088/1088 [==============================] - 3s 3ms/step - loss: 0.0720 - accuracy: 0.9768 - val_loss: 0.2077 - val_accuracy: 0.9605\n",
            "Epoch 48/60\n",
            "1088/1088 [==============================] - 3s 3ms/step - loss: 0.0749 - accuracy: 0.9767 - val_loss: 0.2158 - val_accuracy: 0.9567\n",
            "Epoch 49/60\n",
            "1088/1088 [==============================] - 3s 3ms/step - loss: 0.0714 - accuracy: 0.9774 - val_loss: 0.1965 - val_accuracy: 0.9544\n",
            "Epoch 50/60\n",
            "1088/1088 [==============================] - 3s 3ms/step - loss: 0.0750 - accuracy: 0.9767 - val_loss: 0.2440 - val_accuracy: 0.9478\n",
            "Epoch 51/60\n",
            "1088/1088 [==============================] - 3s 3ms/step - loss: 0.0744 - accuracy: 0.9772 - val_loss: 0.2579 - val_accuracy: 0.9494\n",
            "Epoch 52/60\n",
            "1088/1088 [==============================] - 3s 3ms/step - loss: 0.0772 - accuracy: 0.9767 - val_loss: 0.2338 - val_accuracy: 0.9526\n",
            "Epoch 53/60\n",
            "1088/1088 [==============================] - 3s 3ms/step - loss: 0.0669 - accuracy: 0.9791 - val_loss: 0.2649 - val_accuracy: 0.9544\n",
            "Epoch 54/60\n",
            "1088/1088 [==============================] - 3s 3ms/step - loss: 0.0744 - accuracy: 0.9773 - val_loss: 0.1856 - val_accuracy: 0.9587\n",
            "Epoch 55/60\n",
            "1088/1088 [==============================] - 3s 3ms/step - loss: 0.0709 - accuracy: 0.9781 - val_loss: 0.2894 - val_accuracy: 0.9524\n",
            "Epoch 56/60\n",
            "1088/1088 [==============================] - 3s 3ms/step - loss: 0.0649 - accuracy: 0.9800 - val_loss: 0.2839 - val_accuracy: 0.9519\n",
            "Epoch 57/60\n",
            "1088/1088 [==============================] - 3s 3ms/step - loss: 0.0679 - accuracy: 0.9791 - val_loss: 0.2451 - val_accuracy: 0.9542\n",
            "Epoch 58/60\n",
            "1088/1088 [==============================] - 3s 3ms/step - loss: 0.0641 - accuracy: 0.9799 - val_loss: 0.3888 - val_accuracy: 0.9481\n",
            "Epoch 59/60\n",
            "1088/1088 [==============================] - 3s 3ms/step - loss: 0.0626 - accuracy: 0.9800 - val_loss: 0.3004 - val_accuracy: 0.9560\n",
            "Epoch 60/60\n",
            "1088/1088 [==============================] - 3s 3ms/step - loss: 0.0671 - accuracy: 0.9790 - val_loss: 0.2874 - val_accuracy: 0.9578\n"
          ],
          "name": "stdout"
        }
      ]
    },
    {
      "cell_type": "markdown",
      "metadata": {
        "id": "0j9o451QGdGZ"
      },
      "source": [
        "**Model accuracy**\n",
        "\n",
        "Once the training is complete the next step is to validate the model accuracy"
      ]
    },
    {
      "cell_type": "code",
      "metadata": {
        "colab": {
          "base_uri": "https://localhost:8080/"
        },
        "id": "AhyM4ZUNGj_S",
        "outputId": "7a8a6a70-06c8-4558-9fb1-725859163ef2"
      },
      "source": [
        "score = cnn_model.evaluate(X_test_gray_norm, y_test, verbose=0)\n",
        "print('Test Accuracy : {:.4f}'.format(score[1]))"
      ],
      "execution_count": null,
      "outputs": [
        {
          "output_type": "stream",
          "text": [
            "Test Accuracy : 0.9429\n"
          ],
          "name": "stdout"
        }
      ]
    },
    {
      "cell_type": "code",
      "metadata": {
        "colab": {
          "base_uri": "https://localhost:8080/",
          "height": 281
        },
        "id": "5WPZni4VGz8W",
        "outputId": "bab7011a-6948-4853-e15b-2da89e95517a"
      },
      "source": [
        "# The training loss versus test loss graph look like\n",
        "history_dict = history.history\n",
        "acc_values = history_dict['accuracy']\n",
        "val_acc_values = history_dict['val_accuracy']\n",
        "epochs = range(1, len(loss_values)+ 1)\n",
        "line1 = plt.plot(epochs, val_acc_values, label = 'Validation/Test Accuracy')\n",
        "line2 = plt.plot(epochs, acc_values, label= 'Training Accuracy')\n",
        "plt.setp(line1, linewidth=2.0, marker = '+', markersize=10.0)\n",
        "plt.setp(line2, linewidth=2.0, marker= '4', markersize=10.0)\n",
        "plt.xlabel('Epochs')\n",
        "plt.ylabel('Accuracy')\n",
        "plt.grid(True)\n",
        "plt.legend()\n",
        "plt.show()"
      ],
      "execution_count": null,
      "outputs": [
        {
          "output_type": "display_data",
          "data": {
            "image/png": "[encoded data removed]",
            "text/plain": [
              "<Figure size 432x288 with 1 Axes>"
            ]
          },
          "metadata": {
            "tags": [],
            "needs_background": "light"
          }
        }
      ]
    },
    {
      "cell_type": "code",
      "metadata": {
        "colab": {
          "base_uri": "https://localhost:8080/",
          "height": 279
        },
        "id": "M7-_9yIZIAdi",
        "outputId": "4bf9d233-0c67-49b5-fb44-2b9c5cf034a8"
      },
      "source": [
        "#The training loss versus validation loss graph look like\n",
        "history_dict = history.history\n",
        "loss_values = history_dict['loss']\n",
        "val_loss_values = history_dict['val_loss']\n",
        "epochs = range(1, len(loss_values)+1)\n",
        "line1 = plt.plot(epochs, val_loss_values, label = 'Validation/Test LoSS')\n",
        "line2 = plt.plot(epochs, loss_values, label='Traning loss')\n",
        "plt.setp(line1, linewidth=2.0, marker='+', markersize=10.0)\n",
        "plt.setp(line2, linewidth=2.0, marker='4', markersize=10.0)\n",
        "plt.xlabel('Epochs')\n",
        "plt.ylabel('Loss')\n",
        "plt.grid(True)\n",
        "plt.legend()\n",
        "plt.show()"
      ],
      "execution_count": null,
      "outputs": [
        {
          "output_type": "display_data",
          "data": {
            "image/png": "[encoded data removed]",
            "text/plain": [
              "<Figure size 432x288 with 1 Axes>"
            ]
          },
          "metadata": {
            "tags": [],
            "needs_background": "light"
          }
        }
      ]
    },
    {
      "cell_type": "markdown",
      "metadata": {
        "id": "qcczy6bYIn1n"
      },
      "source": [
        "By observing these 2 graphs we are sure our model performing very well. We have built a traffic sign detector classsifier with 94% accuracy. The model has limited training loss, so the model is not overfitting"
      ]
    },
    {
      "cell_type": "code",
      "metadata": {
        "id": "P5YjVmtHI3qR"
      },
      "source": [
        "# Let's save the model\n",
        "cnn_model.save(\"trafficSign.h5\")"
      ],
      "execution_count": null,
      "outputs": []
    },
    {
      "cell_type": "code",
      "metadata": {
        "id": "zyrZKHloI9-F"
      },
      "source": [
        "# Load the model\n",
        "from keras.models import load_model\n",
        "model = load_model(\"trafficSign.h5\")"
      ],
      "execution_count": null,
      "outputs": []
    },
    {
      "cell_type": "code",
      "metadata": {
        "colab": {
          "base_uri": "https://localhost:8080/"
        },
        "id": "p2pgBv7oJ0cU",
        "outputId": "38018ba0-de19-4880-edc7-9d161d10944c"
      },
      "source": [
        "#get the predictions for the test data\n",
        "predicted_classes = cnn_model.predict_classes(X_test_gray_norm)\n",
        "#get the indices to be plotted\n",
        "y_true = y_test\n",
        "\n",
        "from sklearn.metrics import confusion_matrix\n",
        "cm = confusion_matrix(y_test, predicted_classes)\n",
        "cm"
      ],
      "execution_count": null,
      "outputs": [
        {
          "output_type": "execute_result",
          "data": {
            "text/plain": [
              "array([[ 43,  12,   0, ...,   0,   0,   0],\n",
              "       [  0, 710,   1, ...,   0,   0,   0],\n",
              "       [  0,   4, 741, ...,   0,   0,   0],\n",
              "       ...,\n",
              "       [  0,   1,   0, ...,  75,   0,   0],\n",
              "       [  0,   0,   0, ...,   0,  24,   0],\n",
              "       [  0,   0,   0, ...,   0,   0,  82]])"
            ]
          },
          "metadata": {
            "tags": []
          },
          "execution_count": 28
        }
      ]
    },
    {
      "cell_type": "code",
      "metadata": {
        "colab": {
          "base_uri": "https://localhost:8080/",
          "height": 297
        },
        "id": "xwcfaintJLGs",
        "outputId": "5e5f3132-e184-42ac-8562-f5273cfa7590"
      },
      "source": [
        "# We can check the prediction\n",
        "for i in range(0,12):\n",
        "    plt.subplot(4,3,i+1)\n",
        "    plt.imshow(X_test_gray_norm[i+10].squeeze(), cmap='gray', interpolation='none')\n",
        "    plt.title(\"Predicted {}, Class {}\".format(predicted_classes[i+10], y_true[i+10]))\n",
        "    plt.tight_layout()"
      ],
      "execution_count": null,
      "outputs": [
        {
          "output_type": "display_data",
          "data": {
            "image/png": "[encoded data removed]",
            "text/plain": [
              "<Figure size 432x288 with 12 Axes>"
            ]
          },
          "metadata": {
            "tags": [],
            "needs_background": "light"
          }
        }
      ]
    },
    {
      "cell_type": "code",
      "metadata": {
        "colab": {
          "base_uri": "https://localhost:8080/"
        },
        "id": "eXrcrqOoKI-k",
        "outputId": "ea997f5d-6614-46c3-9cbc-0b7e8288631b"
      },
      "source": [
        "# print the classification report\n",
        "from sklearn.metrics import classification_report\n",
        "predictions =model.predict_classes(X_test_gray)\n",
        "print(classification_report(y_test, predictions))"
      ],
      "execution_count": null,
      "outputs": [
        {
          "output_type": "stream",
          "text": [
            "              precision    recall  f1-score   support\n",
            "\n",
            "           0       0.04      0.58      0.07        60\n",
            "           1       0.32      0.99      0.48       720\n",
            "           2       0.35      0.56      0.43       750\n",
            "           3       0.75      0.08      0.14       450\n",
            "           4       0.39      0.18      0.25       660\n",
            "           5       0.14      0.02      0.03       630\n",
            "           6       0.64      0.33      0.44       150\n",
            "           7       0.27      0.07      0.11       450\n",
            "           8       0.92      0.05      0.09       450\n",
            "           9       0.66      0.86      0.75       480\n",
            "          10       0.83      0.64      0.72       660\n",
            "          11       0.34      0.92      0.49       420\n",
            "          12       0.66      0.97      0.79       690\n",
            "          13       0.60      0.97      0.74       720\n",
            "          14       1.00      0.40      0.57       270\n",
            "          15       0.60      0.03      0.05       210\n",
            "          16       1.00      0.34      0.51       150\n",
            "          17       1.00      0.67      0.80       360\n",
            "          18       0.54      0.34      0.42       390\n",
            "          19       0.48      0.80      0.60        60\n",
            "          20       0.64      0.20      0.31        90\n",
            "          21       0.05      0.14      0.08        90\n",
            "          22       0.89      0.82      0.85       120\n",
            "          23       0.36      0.55      0.43       150\n",
            "          24       0.57      0.04      0.08        90\n",
            "          25       0.73      0.76      0.75       480\n",
            "          26       0.33      0.09      0.15       180\n",
            "          27       0.00      0.00      0.00        60\n",
            "          28       1.00      0.34      0.51       150\n",
            "          29       0.50      0.02      0.04        90\n",
            "          30       0.78      0.05      0.09       150\n",
            "          31       0.95      0.08      0.14       270\n",
            "          32       1.00      0.10      0.18        60\n",
            "          33       0.90      0.50      0.64       210\n",
            "          34       1.00      0.41      0.58       120\n",
            "          35       0.96      0.60      0.74       390\n",
            "          36       0.97      0.60      0.74       120\n",
            "          37       0.68      0.72      0.70        60\n",
            "          38       0.94      0.67      0.79       690\n",
            "          39       0.84      0.23      0.37        90\n",
            "          40       0.67      0.20      0.31        90\n",
            "          41       0.20      0.02      0.03        60\n",
            "          42       0.67      0.02      0.04        90\n",
            "\n",
            "    accuracy                           0.50     12630\n",
            "   macro avg       0.63      0.39      0.40     12630\n",
            "weighted avg       0.62      0.50      0.47     12630\n",
            "\n"
          ],
          "name": "stdout"
        }
      ]
    }
  ]
}